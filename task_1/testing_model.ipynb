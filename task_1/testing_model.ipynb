{
 "cells": [
  {
   "cell_type": "code",
   "execution_count": 1,
   "id": "e8bbe291-2aed-422a-b92d-88ed8ae02998",
   "metadata": {},
   "outputs": [
    {
     "name": "stderr",
     "output_type": "stream",
     "text": [
      "C:\\Users\\Rost\\PycharmProjects\\NER\\venv\\lib\\site-packages\\tqdm\\auto.py:21: TqdmWarning: IProgress not found. Please update jupyter and ipywidgets. See https://ipywidgets.readthedocs.io/en/stable/user_install.html\n",
      "  from .autonotebook import tqdm as notebook_tqdm\n"
     ]
    },
    {
     "name": "stdout",
     "output_type": "stream",
     "text": [
      "{'entity': 'LABEL_0', 'score': 0.854722, 'index': 1, 'word': 'my', 'start': 0, 'end': 2}\n",
      "{'entity': 'LABEL_0', 'score': 0.9617946, 'index': 2, 'word': 'favourite', 'start': 3, 'end': 12}\n",
      "{'entity': 'LABEL_0', 'score': 0.96299255, 'index': 3, 'word': 'mountains', 'start': 13, 'end': 22}\n",
      "{'entity': 'LABEL_0', 'score': 0.8687076, 'index': 4, 'word': 'are', 'start': 23, 'end': 26}\n",
      "{'entity': 'LABEL_1', 'score': 0.7748349, 'index': 5, 'word': 'the', 'start': 27, 'end': 30}\n",
      "{'entity': 'LABEL_1', 'score': 0.8525415, 'index': 6, 'word': 'alps', 'start': 31, 'end': 35}\n",
      "{'entity': 'LABEL_0', 'score': 0.94497156, 'index': 7, 'word': 'also', 'start': 36, 'end': 40}\n",
      "{'entity': 'LABEL_0', 'score': 0.9702717, 'index': 8, 'word': 'in', 'start': 41, 'end': 43}\n",
      "{'entity': 'LABEL_0', 'score': 0.9781503, 'index': 9, 'word': 'terms', 'start': 44, 'end': 49}\n",
      "{'entity': 'LABEL_0', 'score': 0.8332724, 'index': 10, 'word': 'of', 'start': 50, 'end': 52}\n",
      "{'entity': 'LABEL_0', 'score': 0.9561972, 'index': 11, 'word': 'different', 'start': 53, 'end': 62}\n",
      "{'entity': 'LABEL_0', 'score': 0.9755702, 'index': 12, 'word': 'processors', 'start': 63, 'end': 73}\n",
      "{'entity': 'LABEL_0', 'score': 0.7609855, 'index': 13, 'word': 'i', 'start': 74, 'end': 75}\n",
      "{'entity': 'LABEL_0', 'score': 0.9461747, 'index': 14, 'word': 'think', 'start': 76, 'end': 81}\n",
      "{'entity': 'LABEL_0', 'score': 0.63765794, 'index': 15, 'word': '\"', 'start': 82, 'end': 83}\n",
      "{'entity': 'LABEL_0', 'score': 0.90504485, 'index': 16, 'word': 'el', 'start': 83, 'end': 85}\n",
      "{'entity': 'LABEL_0', 'score': 0.9656745, 'index': 17, 'word': '##br', 'start': 85, 'end': 87}\n",
      "{'entity': 'LABEL_0', 'score': 0.8973303, 'index': 18, 'word': '##us', 'start': 87, 'end': 89}\n",
      "{'entity': 'LABEL_0', 'score': 0.80187136, 'index': 19, 'word': '\"', 'start': 89, 'end': 90}\n",
      "{'entity': 'LABEL_0', 'score': 0.97069854, 'index': 20, 'word': 'are', 'start': 91, 'end': 94}\n",
      "{'entity': 'LABEL_0', 'score': 0.6981284, 'index': 21, 'word': 'the', 'start': 95, 'end': 98}\n",
      "{'entity': 'LABEL_0', 'score': 0.89028615, 'index': 22, 'word': 'worst', 'start': 99, 'end': 104}\n"
     ]
    }
   ],
   "source": [
    "import torch\n",
    "from torch.utils.data import Dataset, DataLoader\n",
    "from transformers import DistilBertTokenizerFast, DistilBertForTokenClassification, Trainer, TrainingArguments, pipeline\n",
    "from torch.nn import CrossEntropyLoss\n",
    "\n",
    "import json\n",
    "from sklearn.model_selection import train_test_split\n",
    "from sklearn.utils.class_weight import compute_class_weight\n",
    "import numpy as np\n",
    "\n",
    "\n",
    "# Testing the results\n",
    "tokenizer = DistilBertTokenizerFast.from_pretrained('distilbert-base-uncased')\n",
    "model = DistilBertForTokenClassification.from_pretrained('./saved_model')\n",
    "ner_pipeline = pipeline(\"ner\", model=model, tokenizer=tokenizer)\n",
    "\n",
    "# Example text\n",
    "example_text = \"My favourite mountains are the Alps also in terms of different processors I think \\\"Elbrus\\\" are the worst\"\n",
    "\n",
    "# Get predictions\n",
    "predictions = ner_pipeline(example_text)\n",
    "\n",
    "# Process and print predictions\n",
    "for prediction in predictions:\n",
    "    print(prediction)"
   ]
  },
  {
   "cell_type": "code",
   "execution_count": null,
   "id": "68587251-70b0-438a-8a19-393cc380d3ae",
   "metadata": {},
   "outputs": [],
   "source": []
  }
 ],
 "metadata": {
  "kernelspec": {
   "display_name": "Python 3 (ipykernel)",
   "language": "python",
   "name": "python3"
  },
  "language_info": {
   "codemirror_mode": {
    "name": "ipython",
    "version": 3
   },
   "file_extension": ".py",
   "mimetype": "text/x-python",
   "name": "python",
   "nbconvert_exporter": "python",
   "pygments_lexer": "ipython3",
   "version": "3.9.13"
  }
 },
 "nbformat": 4,
 "nbformat_minor": 5
}
